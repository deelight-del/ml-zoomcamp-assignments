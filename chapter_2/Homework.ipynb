{
 "cells": [
  {
   "cell_type": "markdown",
   "id": "e7432d0b-4d77-4942-98c2-58e2a0338f11",
   "metadata": {},
   "source": [
    "# Chapter 2\n",
    "\n",
    "In this homework, we try to implement a linear regression model from scratch with little use of external frameworks and mainly straightforward mathemeatical calculations."
   ]
  },
  {
   "cell_type": "code",
   "execution_count": 2,
   "id": "3e248ad0-adc1-4f19-9cf3-b084b2fdafbb",
   "metadata": {},
   "outputs": [],
   "source": [
    "import numpy as np\n",
    "import pandas as pd\n",
    "import matplotlib.pyplot as plt\n",
    "import seaborn as sns\n"
   ]
  },
  {
   "cell_type": "markdown",
   "id": "1021a09a-0f28-4283-a318-aa047cb8acf4",
   "metadata": {},
   "source": [
    "## Loading the Data And EDA."
   ]
  },
  {
   "cell_type": "code",
   "execution_count": 5,
   "id": "8e061b57-63ee-4ef2-98d6-7dea837f10f6",
   "metadata": {},
   "outputs": [
    {
     "name": "stdout",
     "output_type": "stream",
     "text": [
      "--2024-09-17 13:48:53--  https://raw.githubusercontent.com/alexeygrigorev/datasets/master/housing.csv\n",
      "Resolving raw.githubusercontent.com (raw.githubusercontent.com)... 185.199.108.133, 185.199.111.133, 185.199.110.133, ...\n",
      "Connecting to raw.githubusercontent.com (raw.githubusercontent.com)|185.199.108.133|:443... connected.\n",
      "HTTP request sent, awaiting response... 200 OK\n",
      "Length: 1423529 (1.4M) [text/plain]\n",
      "Saving to: ‘housing.csv’\n",
      "\n",
      "housing.csv         100%[===================>]   1.36M  15.4KB/s    in 1m 43s  \n",
      "\n",
      "2024-09-17 13:50:39 (13.4 KB/s) - ‘housing.csv’ saved [1423529/1423529]\n",
      "\n"
     ]
    }
   ],
   "source": [
    "!wget https://raw.githubusercontent.com/alexeygrigorev/datasets/master/housing.csv"
   ]
  },
  {
   "cell_type": "code",
   "execution_count": 6,
   "id": "20c92304-42e3-420e-8e2f-87a1233d73e6",
   "metadata": {},
   "outputs": [
    {
     "data": {
      "text/html": [
       "<div>\n",
       "<style scoped>\n",
       "    .dataframe tbody tr th:only-of-type {\n",
       "        vertical-align: middle;\n",
       "    }\n",
       "\n",
       "    .dataframe tbody tr th {\n",
       "        vertical-align: top;\n",
       "    }\n",
       "\n",
       "    .dataframe thead th {\n",
       "        text-align: right;\n",
       "    }\n",
       "</style>\n",
       "<table border=\"1\" class=\"dataframe\">\n",
       "  <thead>\n",
       "    <tr style=\"text-align: right;\">\n",
       "      <th></th>\n",
       "      <th>longitude</th>\n",
       "      <th>latitude</th>\n",
       "      <th>housing_median_age</th>\n",
       "      <th>total_rooms</th>\n",
       "      <th>total_bedrooms</th>\n",
       "      <th>population</th>\n",
       "      <th>households</th>\n",
       "      <th>median_income</th>\n",
       "      <th>median_house_value</th>\n",
       "      <th>ocean_proximity</th>\n",
       "    </tr>\n",
       "  </thead>\n",
       "  <tbody>\n",
       "    <tr>\n",
       "      <th>0</th>\n",
       "      <td>-122.23</td>\n",
       "      <td>37.88</td>\n",
       "      <td>41.0</td>\n",
       "      <td>880.0</td>\n",
       "      <td>129.0</td>\n",
       "      <td>322.0</td>\n",
       "      <td>126.0</td>\n",
       "      <td>8.3252</td>\n",
       "      <td>452600.0</td>\n",
       "      <td>NEAR BAY</td>\n",
       "    </tr>\n",
       "    <tr>\n",
       "      <th>1</th>\n",
       "      <td>-122.22</td>\n",
       "      <td>37.86</td>\n",
       "      <td>21.0</td>\n",
       "      <td>7099.0</td>\n",
       "      <td>1106.0</td>\n",
       "      <td>2401.0</td>\n",
       "      <td>1138.0</td>\n",
       "      <td>8.3014</td>\n",
       "      <td>358500.0</td>\n",
       "      <td>NEAR BAY</td>\n",
       "    </tr>\n",
       "    <tr>\n",
       "      <th>2</th>\n",
       "      <td>-122.24</td>\n",
       "      <td>37.85</td>\n",
       "      <td>52.0</td>\n",
       "      <td>1467.0</td>\n",
       "      <td>190.0</td>\n",
       "      <td>496.0</td>\n",
       "      <td>177.0</td>\n",
       "      <td>7.2574</td>\n",
       "      <td>352100.0</td>\n",
       "      <td>NEAR BAY</td>\n",
       "    </tr>\n",
       "    <tr>\n",
       "      <th>3</th>\n",
       "      <td>-122.25</td>\n",
       "      <td>37.85</td>\n",
       "      <td>52.0</td>\n",
       "      <td>1274.0</td>\n",
       "      <td>235.0</td>\n",
       "      <td>558.0</td>\n",
       "      <td>219.0</td>\n",
       "      <td>5.6431</td>\n",
       "      <td>341300.0</td>\n",
       "      <td>NEAR BAY</td>\n",
       "    </tr>\n",
       "    <tr>\n",
       "      <th>4</th>\n",
       "      <td>-122.25</td>\n",
       "      <td>37.85</td>\n",
       "      <td>52.0</td>\n",
       "      <td>1627.0</td>\n",
       "      <td>280.0</td>\n",
       "      <td>565.0</td>\n",
       "      <td>259.0</td>\n",
       "      <td>3.8462</td>\n",
       "      <td>342200.0</td>\n",
       "      <td>NEAR BAY</td>\n",
       "    </tr>\n",
       "  </tbody>\n",
       "</table>\n",
       "</div>"
      ],
      "text/plain": [
       "   longitude  latitude  housing_median_age  total_rooms  total_bedrooms  \\\n",
       "0    -122.23     37.88                41.0        880.0           129.0   \n",
       "1    -122.22     37.86                21.0       7099.0          1106.0   \n",
       "2    -122.24     37.85                52.0       1467.0           190.0   \n",
       "3    -122.25     37.85                52.0       1274.0           235.0   \n",
       "4    -122.25     37.85                52.0       1627.0           280.0   \n",
       "\n",
       "   population  households  median_income  median_house_value ocean_proximity  \n",
       "0       322.0       126.0         8.3252            452600.0        NEAR BAY  \n",
       "1      2401.0      1138.0         8.3014            358500.0        NEAR BAY  \n",
       "2       496.0       177.0         7.2574            352100.0        NEAR BAY  \n",
       "3       558.0       219.0         5.6431            341300.0        NEAR BAY  \n",
       "4       565.0       259.0         3.8462            342200.0        NEAR BAY  "
      ]
     },
     "execution_count": 6,
     "metadata": {},
     "output_type": "execute_result"
    }
   ],
   "source": [
    "df = pd.read_csv('housing.csv')\n",
    "df.head()"
   ]
  },
  {
   "cell_type": "code",
   "execution_count": 17,
   "id": "caf7f65c-469d-444d-82d4-741ae4c4ccba",
   "metadata": {},
   "outputs": [
    {
     "data": {
      "text/html": [
       "<div>\n",
       "<style scoped>\n",
       "    .dataframe tbody tr th:only-of-type {\n",
       "        vertical-align: middle;\n",
       "    }\n",
       "\n",
       "    .dataframe tbody tr th {\n",
       "        vertical-align: top;\n",
       "    }\n",
       "\n",
       "    .dataframe thead th {\n",
       "        text-align: right;\n",
       "    }\n",
       "</style>\n",
       "<table border=\"1\" class=\"dataframe\">\n",
       "  <thead>\n",
       "    <tr style=\"text-align: right;\">\n",
       "      <th></th>\n",
       "      <th>ocean_proximity</th>\n",
       "    </tr>\n",
       "  </thead>\n",
       "  <tbody>\n",
       "    <tr>\n",
       "      <th>count</th>\n",
       "      <td>20640</td>\n",
       "    </tr>\n",
       "    <tr>\n",
       "      <th>unique</th>\n",
       "      <td>5</td>\n",
       "    </tr>\n",
       "    <tr>\n",
       "      <th>top</th>\n",
       "      <td>&lt;1H OCEAN</td>\n",
       "    </tr>\n",
       "    <tr>\n",
       "      <th>freq</th>\n",
       "      <td>9136</td>\n",
       "    </tr>\n",
       "  </tbody>\n",
       "</table>\n",
       "</div>"
      ],
      "text/plain": [
       "       ocean_proximity\n",
       "count            20640\n",
       "unique               5\n",
       "top          <1H OCEAN\n",
       "freq              9136"
      ]
     },
     "metadata": {},
     "output_type": "display_data"
    },
    {
     "data": {
      "text/html": [
       "<div>\n",
       "<style scoped>\n",
       "    .dataframe tbody tr th:only-of-type {\n",
       "        vertical-align: middle;\n",
       "    }\n",
       "\n",
       "    .dataframe tbody tr th {\n",
       "        vertical-align: top;\n",
       "    }\n",
       "\n",
       "    .dataframe thead th {\n",
       "        text-align: right;\n",
       "    }\n",
       "</style>\n",
       "<table border=\"1\" class=\"dataframe\">\n",
       "  <thead>\n",
       "    <tr style=\"text-align: right;\">\n",
       "      <th></th>\n",
       "      <th>longitude</th>\n",
       "      <th>latitude</th>\n",
       "      <th>housing_median_age</th>\n",
       "      <th>total_rooms</th>\n",
       "      <th>total_bedrooms</th>\n",
       "      <th>population</th>\n",
       "      <th>households</th>\n",
       "      <th>median_income</th>\n",
       "      <th>median_house_value</th>\n",
       "    </tr>\n",
       "  </thead>\n",
       "  <tbody>\n",
       "    <tr>\n",
       "      <th>count</th>\n",
       "      <td>20640.00</td>\n",
       "      <td>20640.00</td>\n",
       "      <td>20640.00</td>\n",
       "      <td>20640.00</td>\n",
       "      <td>20433.00</td>\n",
       "      <td>20640.00</td>\n",
       "      <td>20640.00</td>\n",
       "      <td>20640.00</td>\n",
       "      <td>20640.00</td>\n",
       "    </tr>\n",
       "    <tr>\n",
       "      <th>mean</th>\n",
       "      <td>-119.57</td>\n",
       "      <td>35.63</td>\n",
       "      <td>28.64</td>\n",
       "      <td>2635.76</td>\n",
       "      <td>537.87</td>\n",
       "      <td>1425.48</td>\n",
       "      <td>499.54</td>\n",
       "      <td>3.87</td>\n",
       "      <td>206855.82</td>\n",
       "    </tr>\n",
       "    <tr>\n",
       "      <th>std</th>\n",
       "      <td>2.00</td>\n",
       "      <td>2.14</td>\n",
       "      <td>12.59</td>\n",
       "      <td>2181.62</td>\n",
       "      <td>421.39</td>\n",
       "      <td>1132.46</td>\n",
       "      <td>382.33</td>\n",
       "      <td>1.90</td>\n",
       "      <td>115395.62</td>\n",
       "    </tr>\n",
       "    <tr>\n",
       "      <th>min</th>\n",
       "      <td>-124.35</td>\n",
       "      <td>32.54</td>\n",
       "      <td>1.00</td>\n",
       "      <td>2.00</td>\n",
       "      <td>1.00</td>\n",
       "      <td>3.00</td>\n",
       "      <td>1.00</td>\n",
       "      <td>0.50</td>\n",
       "      <td>14999.00</td>\n",
       "    </tr>\n",
       "    <tr>\n",
       "      <th>25%</th>\n",
       "      <td>-121.80</td>\n",
       "      <td>33.93</td>\n",
       "      <td>18.00</td>\n",
       "      <td>1447.75</td>\n",
       "      <td>296.00</td>\n",
       "      <td>787.00</td>\n",
       "      <td>280.00</td>\n",
       "      <td>2.56</td>\n",
       "      <td>119600.00</td>\n",
       "    </tr>\n",
       "    <tr>\n",
       "      <th>50%</th>\n",
       "      <td>-118.49</td>\n",
       "      <td>34.26</td>\n",
       "      <td>29.00</td>\n",
       "      <td>2127.00</td>\n",
       "      <td>435.00</td>\n",
       "      <td>1166.00</td>\n",
       "      <td>409.00</td>\n",
       "      <td>3.53</td>\n",
       "      <td>179700.00</td>\n",
       "    </tr>\n",
       "    <tr>\n",
       "      <th>75%</th>\n",
       "      <td>-118.01</td>\n",
       "      <td>37.71</td>\n",
       "      <td>37.00</td>\n",
       "      <td>3148.00</td>\n",
       "      <td>647.00</td>\n",
       "      <td>1725.00</td>\n",
       "      <td>605.00</td>\n",
       "      <td>4.74</td>\n",
       "      <td>264725.00</td>\n",
       "    </tr>\n",
       "    <tr>\n",
       "      <th>max</th>\n",
       "      <td>-114.31</td>\n",
       "      <td>41.95</td>\n",
       "      <td>52.00</td>\n",
       "      <td>39320.00</td>\n",
       "      <td>6445.00</td>\n",
       "      <td>35682.00</td>\n",
       "      <td>6082.00</td>\n",
       "      <td>15.00</td>\n",
       "      <td>500001.00</td>\n",
       "    </tr>\n",
       "  </tbody>\n",
       "</table>\n",
       "</div>"
      ],
      "text/plain": [
       "       longitude  latitude  housing_median_age  total_rooms  total_bedrooms  \\\n",
       "count   20640.00  20640.00            20640.00     20640.00        20433.00   \n",
       "mean     -119.57     35.63               28.64      2635.76          537.87   \n",
       "std         2.00      2.14               12.59      2181.62          421.39   \n",
       "min      -124.35     32.54                1.00         2.00            1.00   \n",
       "25%      -121.80     33.93               18.00      1447.75          296.00   \n",
       "50%      -118.49     34.26               29.00      2127.00          435.00   \n",
       "75%      -118.01     37.71               37.00      3148.00          647.00   \n",
       "max      -114.31     41.95               52.00     39320.00         6445.00   \n",
       "\n",
       "       population  households  median_income  median_house_value  \n",
       "count    20640.00    20640.00       20640.00            20640.00  \n",
       "mean      1425.48      499.54           3.87           206855.82  \n",
       "std       1132.46      382.33           1.90           115395.62  \n",
       "min          3.00        1.00           0.50            14999.00  \n",
       "25%        787.00      280.00           2.56           119600.00  \n",
       "50%       1166.00      409.00           3.53           179700.00  \n",
       "75%       1725.00      605.00           4.74           264725.00  \n",
       "max      35682.00     6082.00          15.00           500001.00  "
      ]
     },
     "metadata": {},
     "output_type": "display_data"
    },
    {
     "name": "stdout",
     "output_type": "stream",
     "text": [
      "\n",
      "<class 'pandas.core.frame.DataFrame'>\n",
      "RangeIndex: 20640 entries, 0 to 20639\n",
      "Data columns (total 10 columns):\n",
      " #   Column              Non-Null Count  Dtype  \n",
      "---  ------              --------------  -----  \n",
      " 0   longitude           20640 non-null  float64\n",
      " 1   latitude            20640 non-null  float64\n",
      " 2   housing_median_age  20640 non-null  float64\n",
      " 3   total_rooms         20640 non-null  float64\n",
      " 4   total_bedrooms      20433 non-null  float64\n",
      " 5   population          20640 non-null  float64\n",
      " 6   households          20640 non-null  float64\n",
      " 7   median_income       20640 non-null  float64\n",
      " 8   median_house_value  20640 non-null  float64\n",
      " 9   ocean_proximity     20640 non-null  object \n",
      "dtypes: float64(9), object(1)\n",
      "memory usage: 1.6+ MB\n"
     ]
    },
    {
     "data": {
      "text/plain": [
       "None"
      ]
     },
     "metadata": {},
     "output_type": "display_data"
    }
   ],
   "source": [
    "# Describe and information.\n",
    "\n",
    "from IPython.display import display\n",
    "\n",
    "display(df.describe(include=['object']).round(2))\n",
    "display(df.describe().round(2))\n",
    "print()\n",
    "display(df.info())"
   ]
  },
  {
   "cell_type": "code",
   "execution_count": 28,
   "id": "f74e2aea-03ec-4412-9cb7-3a014c7f6882",
   "metadata": {},
   "outputs": [],
   "source": []
  },
  {
   "cell_type": "code",
   "execution_count": 30,
   "id": "348cae19-4d4b-4eb6-bafa-b0846e41dc38",
   "metadata": {},
   "outputs": [
    {
     "data": {
      "image/png": "[encoded data removed]",
      "text/plain": [
       "<Figure size 640x480 with 1 Axes>"
      ]
     },
     "metadata": {},
     "output_type": "display_data"
    }
   ],
   "source": [
    "# Checking the median_house_value and its distribution.\n",
    "\n",
    "#df['median_house_value'].hist(bins=20);\n",
    "sns.histplot(df.median_house_value);"
   ]
  },
  {
   "cell_type": "markdown",
   "id": "836f48a7-6588-4f84-9c6f-cb54c1ebbccc",
   "metadata": {},
   "source": [
    "### Preparing the dataset\n",
    "For this homework, we only want to use a subset of data.\n",
    "\n",
    "First, keep only the records where ocean_proximity is either '<1H OCEAN' or 'INLAND'\n",
    "\n",
    "Next, use only the following columns:\n",
    "\n",
    "'latitude',\n",
    "'longitude',\n",
    "'housing_median_age',\n",
    "'total_rooms',\n",
    "'total_bedrooms',\n",
    "'population',\n",
    "'households',\n",
    "'median_income',\n",
    "'median_house_value'\n"
   ]
  },
  {
   "cell_type": "code",
   "execution_count": 46,
   "id": "f2f0a712-2b31-406d-a5c6-58f54978de9b",
   "metadata": {},
   "outputs": [
    {
     "data": {
      "text/plain": [
       "0        False\n",
       "1        False\n",
       "2        False\n",
       "3        False\n",
       "4        False\n",
       "         ...  \n",
       "20635    False\n",
       "20636    False\n",
       "20637    False\n",
       "20638    False\n",
       "20639    False\n",
       "Name: ocean_proximity, Length: 20640, dtype: bool"
      ]
     },
     "execution_count": 46,
     "metadata": {},
     "output_type": "execute_result"
    }
   ],
   "source": [
    "df['ocean_proximity'] == '<1H OCEAN'"
   ]
  },
  {
   "cell_type": "code",
   "execution_count": 47,
   "id": "4137e489-7cc1-4760-ae49-931bdbe11eb6",
   "metadata": {},
   "outputs": [
    {
     "data": {
      "text/html": [
       "<div>\n",
       "<style scoped>\n",
       "    .dataframe tbody tr th:only-of-type {\n",
       "        vertical-align: middle;\n",
       "    }\n",
       "\n",
       "    .dataframe tbody tr th {\n",
       "        vertical-align: top;\n",
       "    }\n",
       "\n",
       "    .dataframe thead th {\n",
       "        text-align: right;\n",
       "    }\n",
       "</style>\n",
       "<table border=\"1\" class=\"dataframe\">\n",
       "  <thead>\n",
       "    <tr style=\"text-align: right;\">\n",
       "      <th></th>\n",
       "      <th>longitude</th>\n",
       "      <th>latitude</th>\n",
       "      <th>housing_median_age</th>\n",
       "      <th>total_rooms</th>\n",
       "      <th>total_bedrooms</th>\n",
       "      <th>population</th>\n",
       "      <th>households</th>\n",
       "      <th>median_income</th>\n",
       "      <th>median_house_value</th>\n",
       "      <th>ocean_proximity</th>\n",
       "    </tr>\n",
       "  </thead>\n",
       "  <tbody>\n",
       "    <tr>\n",
       "      <th>0</th>\n",
       "      <td>-121.97</td>\n",
       "      <td>37.64</td>\n",
       "      <td>32.0</td>\n",
       "      <td>1283.0</td>\n",
       "      <td>194.0</td>\n",
       "      <td>485.0</td>\n",
       "      <td>171.0</td>\n",
       "      <td>6.0574</td>\n",
       "      <td>431000.0</td>\n",
       "      <td>&lt;1H OCEAN</td>\n",
       "    </tr>\n",
       "    <tr>\n",
       "      <th>1</th>\n",
       "      <td>-121.99</td>\n",
       "      <td>37.61</td>\n",
       "      <td>9.0</td>\n",
       "      <td>3666.0</td>\n",
       "      <td>711.0</td>\n",
       "      <td>2341.0</td>\n",
       "      <td>703.0</td>\n",
       "      <td>4.6458</td>\n",
       "      <td>217000.0</td>\n",
       "      <td>&lt;1H OCEAN</td>\n",
       "    </tr>\n",
       "    <tr>\n",
       "      <th>2</th>\n",
       "      <td>-121.97</td>\n",
       "      <td>37.57</td>\n",
       "      <td>21.0</td>\n",
       "      <td>4342.0</td>\n",
       "      <td>783.0</td>\n",
       "      <td>2172.0</td>\n",
       "      <td>789.0</td>\n",
       "      <td>4.6146</td>\n",
       "      <td>247600.0</td>\n",
       "      <td>&lt;1H OCEAN</td>\n",
       "    </tr>\n",
       "    <tr>\n",
       "      <th>3</th>\n",
       "      <td>-121.96</td>\n",
       "      <td>37.58</td>\n",
       "      <td>15.0</td>\n",
       "      <td>3575.0</td>\n",
       "      <td>597.0</td>\n",
       "      <td>1777.0</td>\n",
       "      <td>559.0</td>\n",
       "      <td>5.7192</td>\n",
       "      <td>283500.0</td>\n",
       "      <td>&lt;1H OCEAN</td>\n",
       "    </tr>\n",
       "    <tr>\n",
       "      <th>4</th>\n",
       "      <td>-121.98</td>\n",
       "      <td>37.58</td>\n",
       "      <td>20.0</td>\n",
       "      <td>4126.0</td>\n",
       "      <td>1031.0</td>\n",
       "      <td>2079.0</td>\n",
       "      <td>975.0</td>\n",
       "      <td>3.6832</td>\n",
       "      <td>216900.0</td>\n",
       "      <td>&lt;1H OCEAN</td>\n",
       "    </tr>\n",
       "  </tbody>\n",
       "</table>\n",
       "</div>"
      ],
      "text/plain": [
       "   longitude  latitude  housing_median_age  total_rooms  total_bedrooms  \\\n",
       "0    -121.97     37.64                32.0       1283.0           194.0   \n",
       "1    -121.99     37.61                 9.0       3666.0           711.0   \n",
       "2    -121.97     37.57                21.0       4342.0           783.0   \n",
       "3    -121.96     37.58                15.0       3575.0           597.0   \n",
       "4    -121.98     37.58                20.0       4126.0          1031.0   \n",
       "\n",
       "   population  households  median_income  median_house_value ocean_proximity  \n",
       "0       485.0       171.0         6.0574            431000.0       <1H OCEAN  \n",
       "1      2341.0       703.0         4.6458            217000.0       <1H OCEAN  \n",
       "2      2172.0       789.0         4.6146            247600.0       <1H OCEAN  \n",
       "3      1777.0       559.0         5.7192            283500.0       <1H OCEAN  \n",
       "4      2079.0       975.0         3.6832            216900.0       <1H OCEAN  "
      ]
     },
     "execution_count": 47,
     "metadata": {},
     "output_type": "execute_result"
    }
   ],
   "source": [
    "sub_df = (df[(df['ocean_proximity'] == '<1H OCEAN') | (df['ocean_proximity'] == 'INLAND')])\n",
    "sub_df.reset_index(drop=True, inplace=True)\n",
    "sub_df.head()"
   ]
  },
  {
   "cell_type": "code",
   "execution_count": 48,
   "id": "675324db-7de6-4b0e-b763-bbc184e77ad6",
   "metadata": {},
   "outputs": [
    {
     "data": {
      "text/plain": [
       "array(['<1H OCEAN', 'INLAND'], dtype=object)"
      ]
     },
     "execution_count": 48,
     "metadata": {},
     "output_type": "execute_result"
    }
   ],
   "source": [
    "# Check Unique values in ocean_prox.\n",
    "\n",
    "sub_df.ocean_proximity.unique()"
   ]
  },
  {
   "cell_type": "code",
   "execution_count": 49,
   "id": "95a6fa4f-ab65-4a2d-b7e6-4b1bca4abd5f",
   "metadata": {},
   "outputs": [
    {
     "data": {
      "text/html": [
       "<div>\n",
       "<style scoped>\n",
       "    .dataframe tbody tr th:only-of-type {\n",
       "        vertical-align: middle;\n",
       "    }\n",
       "\n",
       "    .dataframe tbody tr th {\n",
       "        vertical-align: top;\n",
       "    }\n",
       "\n",
       "    .dataframe thead th {\n",
       "        text-align: right;\n",
       "    }\n",
       "</style>\n",
       "<table border=\"1\" class=\"dataframe\">\n",
       "  <thead>\n",
       "    <tr style=\"text-align: right;\">\n",
       "      <th></th>\n",
       "      <th>latitude</th>\n",
       "      <th>longitude</th>\n",
       "      <th>housing_median_age</th>\n",
       "      <th>total_rooms</th>\n",
       "      <th>total_bedrooms</th>\n",
       "      <th>population</th>\n",
       "      <th>households</th>\n",
       "      <th>median_income</th>\n",
       "      <th>median_house_value</th>\n",
       "    </tr>\n",
       "  </thead>\n",
       "  <tbody>\n",
       "    <tr>\n",
       "      <th>0</th>\n",
       "      <td>37.64</td>\n",
       "      <td>-121.97</td>\n",
       "      <td>32.0</td>\n",
       "      <td>1283.0</td>\n",
       "      <td>194.0</td>\n",
       "      <td>485.0</td>\n",
       "      <td>171.0</td>\n",
       "      <td>6.0574</td>\n",
       "      <td>431000.0</td>\n",
       "    </tr>\n",
       "    <tr>\n",
       "      <th>1</th>\n",
       "      <td>37.61</td>\n",
       "      <td>-121.99</td>\n",
       "      <td>9.0</td>\n",
       "      <td>3666.0</td>\n",
       "      <td>711.0</td>\n",
       "      <td>2341.0</td>\n",
       "      <td>703.0</td>\n",
       "      <td>4.6458</td>\n",
       "      <td>217000.0</td>\n",
       "    </tr>\n",
       "    <tr>\n",
       "      <th>2</th>\n",
       "      <td>37.57</td>\n",
       "      <td>-121.97</td>\n",
       "      <td>21.0</td>\n",
       "      <td>4342.0</td>\n",
       "      <td>783.0</td>\n",
       "      <td>2172.0</td>\n",
       "      <td>789.0</td>\n",
       "      <td>4.6146</td>\n",
       "      <td>247600.0</td>\n",
       "    </tr>\n",
       "    <tr>\n",
       "      <th>3</th>\n",
       "      <td>37.58</td>\n",
       "      <td>-121.96</td>\n",
       "      <td>15.0</td>\n",
       "      <td>3575.0</td>\n",
       "      <td>597.0</td>\n",
       "      <td>1777.0</td>\n",
       "      <td>559.0</td>\n",
       "      <td>5.7192</td>\n",
       "      <td>283500.0</td>\n",
       "    </tr>\n",
       "    <tr>\n",
       "      <th>4</th>\n",
       "      <td>37.58</td>\n",
       "      <td>-121.98</td>\n",
       "      <td>20.0</td>\n",
       "      <td>4126.0</td>\n",
       "      <td>1031.0</td>\n",
       "      <td>2079.0</td>\n",
       "      <td>975.0</td>\n",
       "      <td>3.6832</td>\n",
       "      <td>216900.0</td>\n",
       "    </tr>\n",
       "  </tbody>\n",
       "</table>\n",
       "</div>"
      ],
      "text/plain": [
       "   latitude  longitude  housing_median_age  total_rooms  total_bedrooms  \\\n",
       "0     37.64    -121.97                32.0       1283.0           194.0   \n",
       "1     37.61    -121.99                 9.0       3666.0           711.0   \n",
       "2     37.57    -121.97                21.0       4342.0           783.0   \n",
       "3     37.58    -121.96                15.0       3575.0           597.0   \n",
       "4     37.58    -121.98                20.0       4126.0          1031.0   \n",
       "\n",
       "   population  households  median_income  median_house_value  \n",
       "0       485.0       171.0         6.0574            431000.0  \n",
       "1      2341.0       703.0         4.6458            217000.0  \n",
       "2      2172.0       789.0         4.6146            247600.0  \n",
       "3      1777.0       559.0         5.7192            283500.0  \n",
       "4      2079.0       975.0         3.6832            216900.0  "
      ]
     },
     "execution_count": 49,
     "metadata": {},
     "output_type": "execute_result"
    }
   ],
   "source": [
    "sub_df = sub_df[['latitude', 'longitude',\n",
    "                 'housing_median_age', 'total_rooms', \n",
    "                 'total_bedrooms', 'population', \n",
    "                 'households', 'median_income', 'median_house_value']]\n",
    "sub_df.head()"
   ]
  },
  {
   "cell_type": "markdown",
   "id": "4da5a854-bb6c-4d0d-a584-e50b778fda75",
   "metadata": {},
   "source": [
    "## Question1"
   ]
  },
  {
   "cell_type": "code",
   "execution_count": 51,
   "id": "878e5426-b0e0-48e5-868d-b5c638240f0e",
   "metadata": {},
   "outputs": [
    {
     "data": {
      "text/plain": [
       "latitude              False\n",
       "longitude             False\n",
       "housing_median_age    False\n",
       "total_rooms           False\n",
       "total_bedrooms         True\n",
       "population            False\n",
       "households            False\n",
       "median_income         False\n",
       "median_house_value    False\n",
       "dtype: bool"
      ]
     },
     "execution_count": 51,
     "metadata": {},
     "output_type": "execute_result"
    }
   ],
   "source": [
    "sub_df.isnull().sum() > 0"
   ]
  },
  {
   "cell_type": "markdown",
   "id": "90c5cb18-5ecd-4a2f-83eb-9b630fb76db7",
   "metadata": {},
   "source": [
    "##  Question 2"
   ]
  },
  {
   "cell_type": "code",
   "execution_count": 52,
   "id": "454802b1-526b-48a7-987b-bb93d5af5ea2",
   "metadata": {},
   "outputs": [
    {
     "data": {
      "text/plain": [
       "1195.0"
      ]
     },
     "execution_count": 52,
     "metadata": {},
     "output_type": "execute_result"
    }
   ],
   "source": [
    "sub_df.population.median()"
   ]
  },
  {
   "cell_type": "markdown",
   "id": "b10074c5-7500-4111-8f14-18385567fc33",
   "metadata": {},
   "source": [
    "## Question 3\n",
    "\n",
    "- Prepare and split the dataset\n",
    "- Shuffle the dataset (the filtered one you created above), use seed 42.\n",
    "- Split your data in train/val/test sets, with 60%/20%/20% distribution.\n",
    "- Apply the log transformation to the median_house_value variable using the np.log1p() function."
   ]
  },
  {
   "cell_type": "code",
   "execution_count": 56,
   "id": "f68c20ba-b849-4e36-b81c-f05a9b08253a",
   "metadata": {},
   "outputs": [
    {
     "data": {
      "text/plain": [
       "15687"
      ]
     },
     "execution_count": 56,
     "metadata": {},
     "output_type": "execute_result"
    }
   ],
   "source": [
    "np.random.seed(42)  #Setting seed.\n",
    "\n",
    "len_sub_df = len(sub_df)\n",
    "len_sub_df"
   ]
  },
  {
   "cell_type": "code",
   "execution_count": 78,
   "id": "77ceb090-9dfe-463a-8dce-4e717f558e4e",
   "metadata": {},
   "outputs": [
    {
     "data": {
      "text/plain": [
       "array([ 8905, 10419,  4769, ..., 10707, 14884, 15490])"
      ]
     },
     "execution_count": 78,
     "metadata": {},
     "output_type": "execute_result"
    }
   ],
   "source": [
    "idx_ = np.array(range(0, len_sub_df))\n",
    "np.random.shuffle(idx_)\n",
    "idx_"
   ]
  },
  {
   "cell_type": "code",
   "execution_count": 79,
   "id": "09b91fdb-dd7c-4ae0-b138-ffbc9c9b637d",
   "metadata": {},
   "outputs": [],
   "source": [
    "SPLIT = 0.2\n",
    "\n",
    "split_idx = int(SPLIT * len_sub_df)\n",
    "\n",
    "idx_test = idx_[:split_idx]\n",
    "idx_val = idx_[split_idx: (split_idx + split_idx)]\n",
    "idx_train = idx_[(split_idx + split_idx):]\n",
    "\n",
    "assert len(idx_test) + len(idx_val) + len(idx_train) == len_sub_df"
   ]
  },
  {
   "cell_type": "code",
   "execution_count": 83,
   "id": "dd7146c8-19fb-47e1-81dd-2dc11436d8c4",
   "metadata": {},
   "outputs": [
    {
     "data": {
      "text/plain": [
       "((9413, 9), (3137, 9), (3137, 9))"
      ]
     },
     "execution_count": 83,
     "metadata": {},
     "output_type": "execute_result"
    }
   ],
   "source": [
    "train_df = (sub_df.iloc[idx_train])\n",
    "val_df = (sub_df.iloc[idx_val])\n",
    "test_df = sub_df.iloc[idx_test]\n",
    "train_df.shape, val_df.shape, test_df.shape"
   ]
  },
  {
   "cell_type": "code",
   "execution_count": 88,
   "id": "402d1edb-cdb2-4c32-9872-5f89762f496a",
   "metadata": {},
   "outputs": [
    {
     "name": "stderr",
     "output_type": "stream",
     "text": [
      "/tmp/ipykernel_425844/3973050531.py:1: SettingWithCopyWarning: \n",
      "A value is trying to be set on a copy of a slice from a DataFrame.\n",
      "Try using .loc[row_indexer,col_indexer] = value instead\n",
      "\n",
      "See the caveats in the documentation: https://pandas.pydata.org/pandas-docs/stable/user_guide/indexing.html#returning-a-view-versus-a-copy\n",
      "  train_df['median_house_value'] = np.log1p(train_df.median_house_value)\n",
      "/tmp/ipykernel_425844/3973050531.py:2: SettingWithCopyWarning: \n",
      "A value is trying to be set on a copy of a slice from a DataFrame.\n",
      "Try using .loc[row_indexer,col_indexer] = value instead\n",
      "\n",
      "See the caveats in the documentation: https://pandas.pydata.org/pandas-docs/stable/user_guide/indexing.html#returning-a-view-versus-a-copy\n",
      "  val_df['median_house_value'] = np.log1p(val_df.median_house_value)\n",
      "/tmp/ipykernel_425844/3973050531.py:3: SettingWithCopyWarning: \n",
      "A value is trying to be set on a copy of a slice from a DataFrame.\n",
      "Try using .loc[row_indexer,col_indexer] = value instead\n",
      "\n",
      "See the caveats in the documentation: https://pandas.pydata.org/pandas-docs/stable/user_guide/indexing.html#returning-a-view-versus-a-copy\n",
      "  test_df['median_house_value'] = np.log1p(test_df.median_house_value)\n"
     ]
    }
   ],
   "source": [
    "train_df['median_house_value'] = np.log1p(train_df.median_house_value)\n",
    "val_df['median_house_value'] = np.log1p(val_df.median_house_value)\n",
    "test_df['median_house_value'] = np.log1p(test_df.median_house_value)"
   ]
  },
  {
   "cell_type": "code",
   "execution_count": 94,
   "id": "a17f1660-b60a-4219-bb5e-d32e5c9f8fcc",
   "metadata": {},
   "outputs": [
    {
     "data": {
      "text/html": [
       "<div>\n",
       "<style scoped>\n",
       "    .dataframe tbody tr th:only-of-type {\n",
       "        vertical-align: middle;\n",
       "    }\n",
       "\n",
       "    .dataframe tbody tr th {\n",
       "        vertical-align: top;\n",
       "    }\n",
       "\n",
       "    .dataframe thead th {\n",
       "        text-align: right;\n",
       "    }\n",
       "</style>\n",
       "<table border=\"1\" class=\"dataframe\">\n",
       "  <thead>\n",
       "    <tr style=\"text-align: right;\">\n",
       "      <th></th>\n",
       "      <th>latitude</th>\n",
       "      <th>longitude</th>\n",
       "      <th>housing_median_age</th>\n",
       "      <th>total_rooms</th>\n",
       "      <th>total_bedrooms</th>\n",
       "      <th>population</th>\n",
       "      <th>households</th>\n",
       "      <th>median_income</th>\n",
       "      <th>median_house_value</th>\n",
       "    </tr>\n",
       "  </thead>\n",
       "  <tbody>\n",
       "    <tr>\n",
       "      <th>6208</th>\n",
       "      <td>33.92</td>\n",
       "      <td>-118.08</td>\n",
       "      <td>39.0</td>\n",
       "      <td>1631.0</td>\n",
       "      <td>322.0</td>\n",
       "      <td>1034.0</td>\n",
       "      <td>328.0</td>\n",
       "      <td>4.5382</td>\n",
       "      <td>12.01794</td>\n",
       "    </tr>\n",
       "  </tbody>\n",
       "</table>\n",
       "</div>"
      ],
      "text/plain": [
       "      latitude  longitude  housing_median_age  total_rooms  total_bedrooms  \\\n",
       "6208     33.92    -118.08                39.0       1631.0           322.0   \n",
       "\n",
       "      population  households  median_income  median_house_value  \n",
       "6208      1034.0       328.0         4.5382            12.01794  "
      ]
     },
     "execution_count": 94,
     "metadata": {},
     "output_type": "execute_result"
    }
   ],
   "source": [
    "train_df.head(1)"
   ]
  },
  {
   "cell_type": "markdown",
   "id": "45f8423a-dc6a-4fea-8774-c56dd61afd78",
   "metadata": {},
   "source": [
    "Question 3\n",
    "- We need to deal with missing values for the column from Q1.\n",
    "- We have two options: fill it with 0 or with the mean of this variable.\n",
    "- Try both options. For each, train a linear regression model without regularization using the code from the lessons.\n",
    "- For computing the mean, use the training only!\n",
    "- Use the validation dataset to evaluate the models and compare the RMSE of each option.\n",
    "- Round the RMSE scores to 2 decimal digits using round(score, 2)\n",
    "- Which option gives better RMSE?"
   ]
  },
  {
   "cell_type": "code",
   "execution_count": 170,
   "id": "45a084ee-7a2b-4b85-a996-f5bc57186f8b",
   "metadata": {},
   "outputs": [],
   "source": [
    "# Define function for linear regression to get an output.\n",
    "\n",
    "def linear_regression(X, y):\n",
    "    ones = np.ones(X.shape[0])\n",
    "    X = np.column_stack([ones, X])\n",
    "    # compute w0, W\n",
    "    XTX_inv = np.linalg.inv(X.T.dot(X))\n",
    "    w_full = (XTX_inv.dot(X.T)).dot(y)\n",
    "\n",
    "    return w_full[0], w_full[1:]"
   ]
  },
  {
   "cell_type": "code",
   "execution_count": 126,
   "id": "02303656-752f-41b3-8491-34713277d1a4",
   "metadata": {},
   "outputs": [
    {
     "data": {
      "text/plain": [
       "((9413, 8), (9413,))"
      ]
     },
     "execution_count": 126,
     "metadata": {},
     "output_type": "execute_result"
    }
   ],
   "source": [
    "# Train model with filling na with 0\n",
    "\n",
    "X_train = train_df.fillna(0)\n",
    "y_train = train_df['median_house_value']\n",
    "del X_train['median_house_value']\n",
    "X_train = X_train.values\n",
    "X_train.shape, y_train.shape"
   ]
  },
  {
   "cell_type": "code",
   "execution_count": 127,
   "id": "ab37b0a1-edd4-4669-9f2c-b12638f6282f",
   "metadata": {},
   "outputs": [],
   "source": [
    "assert np.isnan(X_train).sum() == 0"
   ]
  },
  {
   "cell_type": "code",
   "execution_count": 128,
   "id": "dcac5f2a-dd3a-406c-90bf-2b00e9c25197",
   "metadata": {},
   "outputs": [
    {
     "data": {
      "text/plain": [
       "(-9.75159484710245,\n",
       " array([-2.68430838e-01, -2.55912966e-01,  1.88704215e-03, -2.66278784e-05,\n",
       "         2.13961467e-04, -1.39830407e-04,  4.08656736e-04,  1.78055288e-01]))"
      ]
     },
     "execution_count": 128,
     "metadata": {},
     "output_type": "execute_result"
    }
   ],
   "source": [
    "bias, weight = linear_regression(X_train, y_train)\n",
    "bias, weight"
   ]
  },
  {
   "cell_type": "code",
   "execution_count": 129,
   "id": "91bd62b7-ae77-4b80-87f5-31854ad5e22e",
   "metadata": {},
   "outputs": [
    {
     "data": {
      "text/plain": [
       "((3137, 8), (3137,))"
      ]
     },
     "execution_count": 129,
     "metadata": {},
     "output_type": "execute_result"
    }
   ],
   "source": [
    "# Preparing the validation.\n",
    "\n",
    "X_val = val_df.fillna(0)\n",
    "y_val = val_df['median_house_value']\n",
    "\n",
    "del X_val['median_house_value']\n",
    "X_val = X_val.values\n",
    "X_val.shape, y_val.shape"
   ]
  },
  {
   "cell_type": "code",
   "execution_count": 140,
   "id": "18daa9b8-95c3-49b1-9c44-cf83eb7dfdbc",
   "metadata": {},
   "outputs": [
    {
     "data": {
      "text/plain": [
       "(3137,)"
      ]
     },
     "execution_count": 140,
     "metadata": {},
     "output_type": "execute_result"
    }
   ],
   "source": [
    "y_pred = (X_val.dot(weight) + bias)\n",
    "y_pred.shape"
   ]
  },
  {
   "cell_type": "code",
   "execution_count": 138,
   "id": "72dcc6c2-a061-48b7-8b6a-74000024669c",
   "metadata": {},
   "outputs": [],
   "source": [
    "def RMSE(y_pred, y_true):\n",
    "    rmse = ((y_pred - y_true) ** 2).sum()\n",
    "    rmse = rmse / len(y_pred)\n",
    "    return np.sqrt(rmse)"
   ]
  },
  {
   "cell_type": "code",
   "execution_count": 147,
   "id": "b922b554-782a-44ee-989f-0f4c124e7ed1",
   "metadata": {},
   "outputs": [
    {
     "data": {
      "text/plain": [
       "0.34"
      ]
     },
     "execution_count": 147,
     "metadata": {},
     "output_type": "execute_result"
    }
   ],
   "source": [
    "round(RMSE(y_pred, y_val), 2)"
   ]
  },
  {
   "cell_type": "code",
   "execution_count": 143,
   "id": "b709f0a5-d21c-410f-bc63-03f11ebb61ee",
   "metadata": {},
   "outputs": [
    {
     "data": {
      "text/plain": [
       "latitude                0\n",
       "longitude               0\n",
       "housing_median_age      0\n",
       "total_rooms             0\n",
       "total_bedrooms        104\n",
       "population              0\n",
       "households              0\n",
       "median_income           0\n",
       "median_house_value      0\n",
       "dtype: int64"
      ]
     },
     "execution_count": 143,
     "metadata": {},
     "output_type": "execute_result"
    }
   ],
   "source": [
    "train_df.isnull().sum()"
   ]
  },
  {
   "cell_type": "code",
   "execution_count": 145,
   "id": "d3f2e1df-856c-4450-bc6e-66aecaacec65",
   "metadata": {},
   "outputs": [
    {
     "data": {
      "text/plain": [
       "((9413, 8), (9413,))"
      ]
     },
     "execution_count": 145,
     "metadata": {},
     "output_type": "execute_result"
    }
   ],
   "source": [
    "# Train model with filling na with mean\n",
    "\n",
    "mean_total_bedrooms = train_df.total_bedrooms.mean()\n",
    "\n",
    "X_train = train_df.fillna(mean_total_bedrooms)\n",
    "y_train = train_df['median_house_value']\n",
    "del X_train['median_house_value']\n",
    "X_train = X_train.values\n",
    "X_train.shape, y_train.shape"
   ]
  },
  {
   "cell_type": "code",
   "execution_count": 146,
   "id": "442655a9-38ea-47e5-b7e5-3694a4bfbd9e",
   "metadata": {},
   "outputs": [
    {
     "data": {
      "text/plain": [
       "(-9.861191930914435,\n",
       " array([-2.68861544e-01, -2.56897424e-01,  1.90602062e-03, -3.11324993e-05,\n",
       "         2.88087942e-04, -1.37039573e-04,  3.45367853e-04,  1.79415409e-01]))"
      ]
     },
     "execution_count": 146,
     "metadata": {},
     "output_type": "execute_result"
    }
   ],
   "source": [
    "bias, weight = linear_regression(X_train, y_train)\n",
    "bias, weight"
   ]
  },
  {
   "cell_type": "code",
   "execution_count": 148,
   "id": "8e9128cc-542d-42c9-9c32-4f326901e2f2",
   "metadata": {},
   "outputs": [
    {
     "data": {
      "text/plain": [
       "(3137,)"
      ]
     },
     "execution_count": 148,
     "metadata": {},
     "output_type": "execute_result"
    }
   ],
   "source": [
    "y_pred = (X_val.dot(weight) + bias)\n",
    "y_pred.shape"
   ]
  },
  {
   "cell_type": "code",
   "execution_count": 149,
   "id": "1a05f396-ca9b-44a3-b630-ac8720e808c2",
   "metadata": {},
   "outputs": [
    {
     "data": {
      "text/plain": [
       "0.34"
      ]
     },
     "execution_count": 149,
     "metadata": {},
     "output_type": "execute_result"
    }
   ],
   "source": [
    "round(RMSE(y_pred, y_val), 2)"
   ]
  },
  {
   "cell_type": "markdown",
   "id": "874e20e6-11a5-4d6d-b3b9-6d81742186c7",
   "metadata": {},
   "source": [
    "## Question 4\n",
    "\n",
    "- Now let's train a regularized linear regression.\n",
    "- For this question, fill the NAs with 0.\n",
    "- Try different values of r from this list: [0, 0.000001, 0.0001, 0.001, 0.01, 0.1, 1, 5, 10].\n",
    "- Use RMSE to evaluate the model on the validation dataset.\n",
    "- Round the RMSE scores to 2 decimal digits.\n",
    "- Which r gives the best RMSE?"
   ]
  },
  {
   "cell_type": "code",
   "execution_count": 151,
   "id": "5086e60a-2386-49f5-89c4-b3c8b5ef09c8",
   "metadata": {},
   "outputs": [],
   "source": [
    "# Define function for linear regression to get an output.\n",
    "\n",
    "def linear_regression_regularized(X, y, r):\n",
    "    ones = np.ones(X.shape[0])\n",
    "    X = np.column_stack([ones, X])\n",
    "    # compute w0, W\n",
    "    XTX = X.T.dot(X) + (r * np.eye(X.shape[1]))  #Remember that X.T.dot(X) will result into a gram matrix which is a square matrix.\n",
    "    XTX_inv = np.linalg.inv(XTX)\n",
    "    w_full = (XTX_inv.dot(X.T)).dot(y)\n",
    "\n",
    "    return w_full[0], w_full[1:]"
   ]
  },
  {
   "cell_type": "code",
   "execution_count": 154,
   "id": "852207c7-574a-46f3-b494-74ab9f94db41",
   "metadata": {},
   "outputs": [
    {
     "data": {
      "text/plain": [
       "((9413, 8), (9413,))"
      ]
     },
     "execution_count": 154,
     "metadata": {},
     "output_type": "execute_result"
    }
   ],
   "source": [
    "# Train model with filling na with 0\n",
    "\n",
    "X_train = train_df.fillna(0)\n",
    "y_train = train_df['median_house_value']\n",
    "del X_train['median_house_value']\n",
    "X_train = X_train.values\n",
    "X_train.shape, y_train.shape"
   ]
  },
  {
   "cell_type": "code",
   "execution_count": 155,
   "id": "7307b0cb-3cb6-43bc-ad1a-8896357b6e22",
   "metadata": {},
   "outputs": [
    {
     "data": {
      "text/plain": [
       "(-8.06198275469997,\n",
       " array([-2.53743486e-01, -2.37255106e-01,  2.04180330e-03, -2.99883416e-05,\n",
       "         2.03896561e-04, -1.39246349e-04,  4.37396527e-04,  1.80346404e-01]))"
      ]
     },
     "execution_count": 155,
     "metadata": {},
     "output_type": "execute_result"
    }
   ],
   "source": [
    "bias, weight = linear_regression_regularized(X_train, y_train, 0.1)\n",
    "bias, weight"
   ]
  },
  {
   "cell_type": "code",
   "execution_count": 178,
   "id": "04a3f2be-21de-4ff3-b21a-c1bf3fa69178",
   "metadata": {},
   "outputs": [
    {
     "data": {
      "text/plain": [
       "(3137,)"
      ]
     },
     "execution_count": 178,
     "metadata": {},
     "output_type": "execute_result"
    }
   ],
   "source": [
    "y_pred = (X_val.dot(weight) + bias)\n",
    "y_pred.shape"
   ]
  },
  {
   "cell_type": "code",
   "execution_count": 157,
   "id": "3beb8dd9-df9e-4f5f-b13e-4c1eb6c4b1f8",
   "metadata": {},
   "outputs": [
    {
     "data": {
      "text/plain": [
       "0.34"
      ]
     },
     "execution_count": 157,
     "metadata": {},
     "output_type": "execute_result"
    }
   ],
   "source": [
    "round(RMSE(y_pred, y_val), 2)"
   ]
  },
  {
   "cell_type": "code",
   "execution_count": 166,
   "id": "3892bcd6-dc0f-4e10-9f40-23b113db8c86",
   "metadata": {},
   "outputs": [
    {
     "name": "stdout",
     "output_type": "stream",
     "text": [
      "{0: 0.34, 1e-06: 0.34, 0.0001: 0.34, 0.001: 0.34, 0.01: 0.34, 0.1: 0.34, 1: 0.34, 5: 0.34, 10: 0.35}\n"
     ]
    }
   ],
   "source": [
    "scores = []\n",
    "hyperp_reg = [0, 0.000001, 0.0001, 0.001, 0.01, 0.1, 1, 5, 10]\n",
    "for r in hyperp_reg:\n",
    "    X_train = train_df.fillna(0)\n",
    "    y_train = train_df['median_house_value']\n",
    "    del X_train['median_house_value']\n",
    "    X_train = X_train.values\n",
    "    bias, weight = linear_regression_regularized(X_train, y_train, r)\n",
    "    y_pred = (X_val.dot(weight) + bias)\n",
    "    score = round(RMSE(y_pred, y_val), 2)\n",
    "    scores.append(score)\n",
    "\n",
    "print(dict(zip(hyperp_reg, scores)))"
   ]
  },
  {
   "cell_type": "markdown",
   "id": "ca7824c6-c046-49b6-82f1-679ace82e7f4",
   "metadata": {},
   "source": [
    "## Question 5\n",
    "\n",
    "- We used seed 42 for splitting the data. Let's find out how selecting the seed influences our score.\n",
    "- Try different seed values: [0, 1, 2, 3, 4, 5, 6, 7, 8, 9].\n",
    "- For each seed, do the train/validation/test split with 60%/20%/20% distribution.\n",
    "- Fill the missing values with 0 and train a model without regularization.\n",
    "- For each seed, evaluate the model on the validation dataset and collect the RMSE scores.\n",
    "- What's the standard deviation of all the scores? To compute the standard deviation, use np.std.\n",
    "- Round the result to 3 decimal digits (round(std, 3))"
   ]
  },
  {
   "cell_type": "code",
   "execution_count": 171,
   "id": "11aabf2a-01b5-4674-9916-b2f6c9a52359",
   "metadata": {},
   "outputs": [
    {
     "name": "stderr",
     "output_type": "stream",
     "text": [
      "/tmp/ipykernel_425844/1317017283.py:24: SettingWithCopyWarning: \n",
      "A value is trying to be set on a copy of a slice from a DataFrame.\n",
      "Try using .loc[row_indexer,col_indexer] = value instead\n",
      "\n",
      "See the caveats in the documentation: https://pandas.pydata.org/pandas-docs/stable/user_guide/indexing.html#returning-a-view-versus-a-copy\n",
      "  train_df['median_house_value'] = np.log1p(train_df.median_house_value)\n",
      "/tmp/ipykernel_425844/1317017283.py:25: SettingWithCopyWarning: \n",
      "A value is trying to be set on a copy of a slice from a DataFrame.\n",
      "Try using .loc[row_indexer,col_indexer] = value instead\n",
      "\n",
      "See the caveats in the documentation: https://pandas.pydata.org/pandas-docs/stable/user_guide/indexing.html#returning-a-view-versus-a-copy\n",
      "  val_df['median_house_value'] = np.log1p(val_df.median_house_value)\n",
      "/tmp/ipykernel_425844/1317017283.py:26: SettingWithCopyWarning: \n",
      "A value is trying to be set on a copy of a slice from a DataFrame.\n",
      "Try using .loc[row_indexer,col_indexer] = value instead\n",
      "\n",
      "See the caveats in the documentation: https://pandas.pydata.org/pandas-docs/stable/user_guide/indexing.html#returning-a-view-versus-a-copy\n",
      "  test_df['median_house_value'] = np.log1p(test_df.median_house_value)\n"
     ]
    },
    {
     "name": "stdout",
     "output_type": "stream",
     "text": [
      "[0.34, 0.34, 0.34, 0.35, 0.33, 0.34, 0.34, 0.33, 0.34, 0.34]\n"
     ]
    }
   ],
   "source": [
    "seeds = [0, 1, 2, 3, 4, 5, 6, 7, 8, 9]\n",
    "\n",
    "scores_on_seeds = []\n",
    "\n",
    "for seed in seeds:\n",
    "    np.random.seed(seed)  #Setting seed.\n",
    "    idx_ = np.array(range(0, len_sub_df))\n",
    "    np.random.shuffle(idx_)\n",
    "    SPLIT = 0.2\n",
    "\n",
    "    split_idx = int(SPLIT * len_sub_df)\n",
    "    \n",
    "    idx_test = idx_[:split_idx]\n",
    "    idx_val = idx_[split_idx: (split_idx + split_idx)]\n",
    "    idx_train = idx_[(split_idx + split_idx):]\n",
    "    \n",
    "    assert len(idx_test) + len(idx_val) + len(idx_train) == len_sub_df\n",
    "\n",
    "    train_df = (sub_df.iloc[idx_train])\n",
    "    val_df = (sub_df.iloc[idx_val])\n",
    "    test_df = sub_df.iloc[idx_test]\n",
    "    train_df.shape, val_df.shape, test_df.shape\n",
    "\n",
    "    train_df['median_house_value'] = np.log1p(train_df.median_house_value)\n",
    "    val_df['median_house_value'] = np.log1p(val_df.median_house_value)\n",
    "    test_df['median_house_value'] = np.log1p(test_df.median_house_value)\n",
    "\n",
    "    # Train model with filling na with 0\n",
    "\n",
    "    X_train = train_df.fillna(0)\n",
    "    y_train = train_df['median_house_value']\n",
    "    del X_train['median_house_value']\n",
    "    X_train = X_train.values\n",
    "\n",
    "    bias, weight = linear_regression(X_train, y_train)\n",
    "\n",
    "    X_val = val_df.fillna(0)\n",
    "    y_val = val_df['median_house_value']\n",
    "    \n",
    "    del X_val['median_house_value']\n",
    "    X_val = X_val.values\n",
    "\n",
    "    y_pred = (X_val.dot(weight) + bias)\n",
    "\n",
    "    scores_on_seeds.append(round(RMSE(y_pred, y_val), 2))\n",
    "\n",
    "print(scores_on_seeds)"
   ]
  },
  {
   "cell_type": "code",
   "execution_count": 172,
   "id": "25cff6eb-3ead-428e-8978-84419cf349d6",
   "metadata": {},
   "outputs": [
    {
     "name": "stdout",
     "output_type": "stream",
     "text": [
      "{0: 0.34, 1: 0.34, 2: 0.34, 3: 0.35, 4: 0.33, 5: 0.34, 6: 0.34, 7: 0.33, 8: 0.34, 9: 0.34}\n"
     ]
    }
   ],
   "source": [
    "print(dict(zip(seeds, scores_on_seeds)))"
   ]
  },
  {
   "cell_type": "code",
   "execution_count": 177,
   "id": "fbd8f010-67bc-4ca3-ae53-2430f8698890",
   "metadata": {},
   "outputs": [
    {
     "data": {
      "text/plain": [
       "0.005"
      ]
     },
     "execution_count": 177,
     "metadata": {},
     "output_type": "execute_result"
    }
   ],
   "source": [
    "round(np.std(scores_on_seeds), 3)"
   ]
  },
  {
   "cell_type": "markdown",
   "id": "628c1daf-b8f6-4783-a773-856a1201d9d8",
   "metadata": {},
   "source": [
    "## Question 6\n",
    "\n",
    "- Split the dataset like previously, use seed 9.\n",
    "- Combine train and validation datasets.\n",
    "- Fill the missing values with 0 and train a model with r=0.001.\n",
    "- What's the RMSE on the test dataset?"
   ]
  },
  {
   "cell_type": "code",
   "execution_count": 183,
   "id": "e1d40db9-641d-4f24-9381-8b746f26d483",
   "metadata": {},
   "outputs": [
    {
     "name": "stderr",
     "output_type": "stream",
     "text": [
      "/tmp/ipykernel_425844/445436241.py:19: SettingWithCopyWarning: \n",
      "A value is trying to be set on a copy of a slice from a DataFrame.\n",
      "Try using .loc[row_indexer,col_indexer] = value instead\n",
      "\n",
      "See the caveats in the documentation: https://pandas.pydata.org/pandas-docs/stable/user_guide/indexing.html#returning-a-view-versus-a-copy\n",
      "  test_df['median_house_value'] = np.log1p(test_df.median_house_value)\n"
     ]
    },
    {
     "data": {
      "text/plain": [
       "(-10.084195724734398,\n",
       " array([-2.71267669e-01, -2.59532063e-01,  1.78098286e-03, -2.80484799e-05,\n",
       "         3.02304719e-04, -1.55315401e-04,  3.61798644e-04,  1.80362364e-01]))"
      ]
     },
     "execution_count": 183,
     "metadata": {},
     "output_type": "execute_result"
    }
   ],
   "source": [
    "np.random.seed(9)  #Setting seed.\n",
    "idx_ = np.array(range(0, len_sub_df))\n",
    "np.random.shuffle(idx_)\n",
    "SPLIT = 0.2\n",
    "\n",
    "split_idx = int(SPLIT * len_sub_df)\n",
    "    \n",
    "idx_test = idx_[:split_idx]\n",
    "idx_val = idx_[split_idx: (split_idx + split_idx)]\n",
    "idx_train = idx_[(split_idx + split_idx):]\n",
    "    \n",
    "assert len(idx_test) + len(idx_val) + len(idx_train) == len_sub_df\n",
    "train_df = (sub_df.iloc[idx_train])\n",
    "val_df = (sub_df.iloc[idx_val])\n",
    "test_df = sub_df.iloc[idx_test]\n",
    "full_train_df = pd.concat([train_df, val_df])\n",
    "\n",
    "full_train_df['median_house_value'] = np.log1p(full_train_df.median_house_value)\n",
    "test_df['median_house_value'] = np.log1p(test_df.median_house_value)\n",
    "\n",
    "# Train model with filling na with 0\n",
    "\n",
    "X_train = full_train_df.fillna(0)\n",
    "y_train = full_train_df['median_house_value']\n",
    "del X_train['median_house_value']\n",
    "X_train = X_train.values\n",
    "\n",
    "bias, weight = linear_regression_regularized(X_train, y_train, 0.001)\n",
    "bias, weight"
   ]
  },
  {
   "cell_type": "code",
   "execution_count": 184,
   "id": "2d9b4b62-05bf-4ccd-9fe6-f6ab93633ce8",
   "metadata": {},
   "outputs": [
    {
     "data": {
      "text/plain": [
       "array([12.2822426 , 12.44571808, 12.64816274, ..., 12.01554319,\n",
       "       11.76918648, 12.55053096])"
      ]
     },
     "execution_count": 184,
     "metadata": {},
     "output_type": "execute_result"
    }
   ],
   "source": [
    "X_test = test_df.fillna(0)\n",
    "y_test = test_df['median_house_value']\n",
    "    \n",
    "del X_test['median_house_value']\n",
    "X_test = X_test.values\n",
    "\n",
    "y_pred = (X_test.dot(weight) + bias)\n",
    "y_pred"
   ]
  },
  {
   "cell_type": "code",
   "execution_count": 187,
   "id": "6a6fdd1b-a178-43d5-ad3c-0c7d08f4676d",
   "metadata": {},
   "outputs": [
    {
     "data": {
      "text/plain": [
       "0.35"
      ]
     },
     "execution_count": 187,
     "metadata": {},
     "output_type": "execute_result"
    }
   ],
   "source": [
    "round(RMSE(y_pred, y_test), 2)"
   ]
  },
  {
   "cell_type": "code",
   "execution_count": null,
   "id": "8c8fec54-afba-4717-a1cc-3e4173364fb5",
   "metadata": {},
   "outputs": [],
   "source": []
  }
 ],
 "metadata": {
  "kernelspec": {
   "display_name": "Python 3 (ipykernel)",
   "language": "python",
   "name": "python3"
  },
  "language_info": {
   "codemirror_mode": {
    "name": "ipython",
    "version": 3
   },
   "file_extension": ".py",
   "mimetype": "text/x-python",
   "name": "python",
   "nbconvert_exporter": "python",
   "pygments_lexer": "ipython3",
   "version": "3.9.19"
  }
 },
 "nbformat": 4,
 "nbformat_minor": 5
}
